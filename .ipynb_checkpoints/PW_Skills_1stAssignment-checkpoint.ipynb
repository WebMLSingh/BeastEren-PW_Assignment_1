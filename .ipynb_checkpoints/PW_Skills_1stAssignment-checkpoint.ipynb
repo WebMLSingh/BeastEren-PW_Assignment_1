{
 "cells": [
  {
   "cell_type": "markdown",
   "id": "8e1a03e6-5cfe-47ee-bcfb-b468db220404",
   "metadata": {},
   "source": [
    "1. Explain the key features of Python that make it a popular choice for programming"
   ]
  },
  {
   "cell_type": "raw",
   "id": "b494b487-be75-4b31-a47a-ebd60ecb8bd3",
   "metadata": {},
   "source": [
    "Python is popular for its simplicity, readability, and ease of use, making it beginner-friendly. Its versatility allows it to be used in various domains like web development, data analysis, AI, and automation. Python's extensive standard library and a vast ecosystem of third-party packages accelerate development. Additionally, its strong community support and cross-platform compatibility make it a go-to language for many developers."
   ]
  },
  {
   "cell_type": "markdown",
   "id": "6fb10ec1-a9e2-4eb7-8070-45e8d5fc91f0",
   "metadata": {},
   "source": [
    "2. Describe the role of predefined keywords in Python and provide examples of how they are used in a program"
   ]
  },
  {
   "cell_type": "raw",
   "id": "f1cda321-0407-46b0-a852-583fd859450f",
   "metadata": {},
   "source": [
    "Predefined keywords in Python are reserved words that have special meanings and are used to define the syntax and structure of the language. They cannot be used as identifiers (like variable names) because they perform specific functions.\n",
    "Examples include:\n",
    "•\tif: Used for conditional statements.\n",
    "•\tfor: Used to create loops.\n",
    "•\tdef: Used to define functions.\n",
    "•\timport: Used to include external modules.\n",
    "Example usage in a program:"
   ]
  },
  {
   "cell_type": "code",
   "execution_count": 2,
   "id": "ba5585fe-1af5-4799-8c61-ec067de60b57",
   "metadata": {},
   "outputs": [
    {
     "name": "stdout",
     "output_type": "stream",
     "text": [
      "Hello, Python!\n",
      "Hello, Python!\n",
      "Hello, Python!\n"
     ]
    }
   ],
   "source": [
    "def greet(name):   # 'def' defines a function\n",
    "    if name:       # 'if' checks a condition\n",
    "        return f\"Hello, {name}!\"\n",
    "    else:\n",
    "        return \"Hello, World!\"\n",
    "\n",
    "for i in range(3):  # 'for' creates a loop\n",
    "    print(greet(\"Python\"))"
   ]
  },
  {
   "cell_type": "markdown",
   "id": "12c090f3-68a4-413b-b86b-eb1e45db6751",
   "metadata": {},
   "source": [
    "3. Compare and contrast mutable and immutable objects in Python with examples"
   ]
  },
  {
   "cell_type": "raw",
   "id": "ff658a89-8e73-491f-95f5-6fb35ad18a8f",
   "metadata": {},
   "source": [
    "In Python, mutable objects can change their content without changing their identity, while immutable objects cannot be changed after they are created.\n",
    "•\tMutable objects: You can modify their elements or properties after creation.\n",
    "    o Example: Lists are mutable."
   ]
  },
  {
   "cell_type": "code",
   "execution_count": 3,
   "id": "bc73505e-8b27-444b-b241-377b20a342f5",
   "metadata": {},
   "outputs": [],
   "source": [
    "my_list = [1, 2, 3]\n",
    "my_list[0] = 10  # You can change the first element to 10"
   ]
  },
  {
   "cell_type": "code",
   "execution_count": 4,
   "id": "88fbdad0-1ecf-4ac1-8bdb-a168d3d5cbf2",
   "metadata": {},
   "outputs": [
    {
     "data": {
      "text/plain": [
       "[10, 2, 3]"
      ]
     },
     "execution_count": 4,
     "metadata": {},
     "output_type": "execute_result"
    }
   ],
   "source": [
    "my_list"
   ]
  },
  {
   "cell_type": "raw",
   "id": "3fb9224d-4e9b-4776-8b8c-30107b091c3f",
   "metadata": {},
   "source": [
    "•\tImmutable objects: Once created, their content cannot be altered.\n",
    "    o Example: Tuples and strings are immutable."
   ]
  },
  {
   "cell_type": "code",
   "execution_count": 5,
   "id": "a83cde7f-65fa-4a82-a2d6-cb6f5a78ff94",
   "metadata": {},
   "outputs": [
    {
     "ename": "TypeError",
     "evalue": "'tuple' object does not support item assignment",
     "output_type": "error",
     "traceback": [
      "\u001b[0;31m---------------------------------------------------------------------------\u001b[0m",
      "\u001b[0;31mTypeError\u001b[0m                                 Traceback (most recent call last)",
      "Cell \u001b[0;32mIn[5], line 2\u001b[0m\n\u001b[1;32m      1\u001b[0m my_tuple \u001b[38;5;241m=\u001b[39m (\u001b[38;5;241m1\u001b[39m, \u001b[38;5;241m2\u001b[39m, \u001b[38;5;241m3\u001b[39m)\n\u001b[0;32m----> 2\u001b[0m \u001b[43mmy_tuple\u001b[49m\u001b[43m[\u001b[49m\u001b[38;5;241;43m0\u001b[39;49m\u001b[43m]\u001b[49m \u001b[38;5;241m=\u001b[39m \u001b[38;5;241m10\u001b[39m  \u001b[38;5;66;03m# This will cause an error, because you can't change tuple elements\u001b[39;00m\n",
      "\u001b[0;31mTypeError\u001b[0m: 'tuple' object does not support item assignment"
     ]
    }
   ],
   "source": [
    "my_tuple = (1, 2, 3)\n",
    "my_tuple[0] = 10  # This will cause an error, because you can't change tuple elements"
   ]
  },
  {
   "cell_type": "raw",
   "id": "9990668c-84a3-43ce-9254-41af400a00f1",
   "metadata": {},
   "source": [
    "With mutable objects, you can change them directly (like adding, removing, or updating items in a list). But with immutable objects, you have to create a new object if you want a different value."
   ]
  },
  {
   "cell_type": "markdown",
   "id": "35045159-a6f9-4ded-b1ce-4ee1d755c73e",
   "metadata": {},
   "source": [
    "4. Discuss the different types of operators in Python and provide examples of how they are used"
   ]
  },
  {
   "cell_type": "raw",
   "id": "f184b12f-3e0b-4dd8-8713-78e576e6d914",
   "metadata": {},
   "source": [
    "In Python, operators are symbols that perform operations on values or variables. There are several types:\n",
    "1.\tArithmetic Operators: Used for basic math:"
   ]
  },
  {
   "cell_type": "code",
   "execution_count": 10,
   "id": "ab76af48-9645-4cf4-8184-779f270c1ddc",
   "metadata": {},
   "outputs": [
    {
     "name": "stdout",
     "output_type": "stream",
     "text": [
      "5\n",
      "1\n",
      "6\n",
      "3.0\n",
      "1\n"
     ]
    }
   ],
   "source": [
    "print(3 + 2 )\n",
    "print(3 - 2 )\n",
    "print(3 * 2 )\n",
    "print(6 / 2 )\n",
    "print(5 % 2 )"
   ]
  },
  {
   "cell_type": "raw",
   "id": "bbd49ae1-0345-4f91-86e3-1f972fb9d718",
   "metadata": {},
   "source": [
    "2.\tComparison Operators: Compare values, returning True or False."
   ]
  },
  {
   "cell_type": "code",
   "execution_count": 11,
   "id": "167bc2a9-1563-4043-8092-de0ddc3fedc9",
   "metadata": {},
   "outputs": [
    {
     "name": "stdout",
     "output_type": "stream",
     "text": [
      "True\n",
      "True\n",
      "True\n",
      "True\n",
      "True\n",
      "True\n"
     ]
    }
   ],
   "source": [
    "print(3 == 3 )\n",
    "print(3 != 2 )\n",
    "print(5 > 3 )\n",
    "print(5 >= 3 )\n",
    "print(2 < 4 )\n",
    "print(2 <= 4) "
   ]
  },
  {
   "cell_type": "raw",
   "id": "7549bf61-e0e4-48e1-84d8-c069b6b59487",
   "metadata": {},
   "source": [
    "3.\tLogical Operators: Combine conditional statements.\n",
    "-\tand: True and False is False\n",
    "-\tor: True or False is True\n",
    "-\tnot: not True is False\n",
    "\n",
    "4.\tAssignment Operators: Assign values to variables.\n",
    "-\t= : x = 5 assigns 5 to x\n",
    "-\t+= : x += 2 adds 2 to x (same as x = x + 2)\n",
    "\n",
    "5.\tMembership Operators: Check if a value is in a sequence.\n",
    "-\tin : 'a' in 'apple' is True\n",
    "-\tnot in : 'b' not in 'apple' is True\n",
    "\n",
    "6.\tIdentity Operators: Check if two objects are the same.\n",
    "-\tis : x is y checks if x and y are the same object.\n",
    "-\tis not : x is not y checks if x and y are different objects"
   ]
  },
  {
   "cell_type": "markdown",
   "id": "085b2bf1-4090-4329-a3c9-e85a95d9d61c",
   "metadata": {},
   "source": [
    "5. Explain the concept of type casting in Python with examples"
   ]
  },
  {
   "cell_type": "raw",
   "id": "9354f3cc-1568-412e-bc4b-db67939386f2",
   "metadata": {},
   "source": [
    "Type casting in Python means converting a value from one data type to another. This is helpful when you need to change how data is treated.\n",
    "Examples:\n",
    "1.\tConvert an integer to a string:"
   ]
  },
  {
   "cell_type": "code",
   "execution_count": 14,
   "id": "0ffd13e0-17d1-43bc-b9da-62fa3cada9d5",
   "metadata": {},
   "outputs": [
    {
     "data": {
      "text/plain": [
       "'42'"
      ]
     },
     "execution_count": 14,
     "metadata": {},
     "output_type": "execute_result"
    }
   ],
   "source": [
    "num = 42\n",
    "num_str = str(num)  # Converts 42 to \"42\"\n",
    "num_str"
   ]
  },
  {
   "cell_type": "raw",
   "id": "2745b498-a94a-47e0-a692-066551901f53",
   "metadata": {},
   "source": [
    "This is useful when you want to combine numbers with text.\n",
    "2.\tConvert a string to an integer:"
   ]
  },
  {
   "cell_type": "code",
   "execution_count": 15,
   "id": "45437a58-dfb3-46e8-994b-b5d3d928df0a",
   "metadata": {},
   "outputs": [
    {
     "data": {
      "text/plain": [
       "100"
      ]
     },
     "execution_count": 15,
     "metadata": {},
     "output_type": "execute_result"
    }
   ],
   "source": [
    "num_str = \"100\"\n",
    "num = int(num_str)  # Converts \"100\" to 100\n",
    "num"
   ]
  },
  {
   "cell_type": "raw",
   "id": "8f1c7c5f-5832-4d1f-bc94-058b065ce068",
   "metadata": {},
   "source": [
    "Use this when you need to perform math on a number that was stored as text.\n",
    "3.\tConvert a float to an integer:"
   ]
  },
  {
   "cell_type": "code",
   "execution_count": 16,
   "id": "518a10e2-b625-40c4-aeff-80d8d6ecc78e",
   "metadata": {},
   "outputs": [
    {
     "data": {
      "text/plain": [
       "3"
      ]
     },
     "execution_count": 16,
     "metadata": {},
     "output_type": "execute_result"
    }
   ],
   "source": [
    "num_float = 3.14\n",
    "num_int = int(num_float)  # Converts 3.14 to 3 (truncates decimal part)\n",
    "num_int"
   ]
  },
  {
   "cell_type": "raw",
   "id": "3e192484-4336-44ff-90ca-9f9662a2720e",
   "metadata": {},
   "source": [
    "This removes the decimal part, giving you just the whole number.\n",
    "4.\tConvert a list to a set:"
   ]
  },
  {
   "cell_type": "code",
   "execution_count": 17,
   "id": "ac458a19-6a84-4a50-b1f8-04af0b8fb751",
   "metadata": {},
   "outputs": [
    {
     "data": {
      "text/plain": [
       "{1, 2, 3}"
      ]
     },
     "execution_count": 17,
     "metadata": {},
     "output_type": "execute_result"
    }
   ],
   "source": [
    "my_list = [1, 2, 2, 3]\n",
    "my_set = set(my_list)  # Converts [1, 2, 2, 3] to {1, 2, 3} (removes duplicates)\n",
    "my_set\n",
    "#This is useful when you want to remove duplicates from a list."
   ]
  },
  {
   "cell_type": "markdown",
   "id": "58c2d685-67e2-4219-9065-52762d1cfd3e",
   "metadata": {},
   "source": [
    "6. How do conditional statements work in Python? Illustrate with examples"
   ]
  },
  {
   "cell_type": "raw",
   "id": "b6eeb1db-67bf-4262-817d-c16020757ff2",
   "metadata": {},
   "source": [
    "Conditional statements in Python let you make decisions in your code based on certain conditions. The most common conditional statements are if, elif, and else.\n",
    "How they work:\n",
    "•\tif: Checks if a condition is True. If it is, the code inside the block runs.\n",
    "•\telif: (short for \"else if\") Checks another condition if the previous if was False.\n",
    "•\telse: Runs if all the above conditions are False.\n",
    "Example:"
   ]
  },
  {
   "cell_type": "code",
   "execution_count": 19,
   "id": "6821113a-2d53-4bca-82c4-1540343ee8a0",
   "metadata": {},
   "outputs": [
    {
     "name": "stdout",
     "output_type": "stream",
     "text": [
      "You're an adult\n"
     ]
    }
   ],
   "source": [
    "age = 20\n",
    "if age < 18:           # Checks if age is less than 18\n",
    "    print(\"You're a minor\")\n",
    "elif age < 65:         # Checks if age is less than 65 (but greater than or equal to 18)\n",
    "    print(\"You're an adult\")\n",
    "else:                  # If none of the above conditions are met\n",
    "    print(\"You're a senior\")"
   ]
  },
  {
   "cell_type": "raw",
   "id": "da6ec474-c9d3-4f66-8a08-eaaca97037c0",
   "metadata": {},
   "source": [
    "Explanation:\n",
    "•\tIf age is less than 18, it prints \"You're a minor.\"\n",
    "•\tIf age is between 18 and 64, it prints \"You're an adult.\"\n",
    "•\tIf none of these are true, it prints \"You're a senior.\""
   ]
  },
  {
   "cell_type": "markdown",
   "id": "3072e258-c58f-40ef-9c8d-aa7e006aa330",
   "metadata": {},
   "source": [
    "7. Describe the different types of loops in Python and their use cases with examples."
   ]
  },
  {
   "cell_type": "raw",
   "id": "f7a9e7ab-fff4-4509-a375-83e17a03bf69",
   "metadata": {},
   "source": [
    "In Python, loops are used to repeat a block of code multiple times. The main types are for and while loops.\n",
    "1. for loop:\n",
    "Used to iterate over a sequence (like a list, string, or range). When you know the number of times you want to repeat something.\n",
    "Example:"
   ]
  },
  {
   "cell_type": "code",
   "execution_count": 21,
   "id": "9e6de6d2-8e9d-4d77-9eda-98b9f89b5a5b",
   "metadata": {},
   "outputs": [
    {
     "name": "stdout",
     "output_type": "stream",
     "text": [
      "Hello\n",
      "Hello\n",
      "Hello\n"
     ]
    }
   ],
   "source": [
    "for i in range(3):  # Loops 3 times (i = 0, 1, 2)\n",
    "    print(\"Hello\")\n",
    "# This prints \"Hello\" three times."
   ]
  },
  {
   "cell_type": "raw",
   "id": "ebb25388-0300-4039-81fa-59abd6b521fd",
   "metadata": {},
   "source": [
    "2. while loop:\n",
    "Keeps looping as long as a condition is True. When you don’t know exactly how many times the loop will run (e.g., waiting for user input).\n",
    "Example:"
   ]
  },
  {
   "cell_type": "code",
   "execution_count": 22,
   "id": "1a1fb059-8324-4ab2-bc61-4eb6126c7b9b",
   "metadata": {},
   "outputs": [
    {
     "name": "stdout",
     "output_type": "stream",
     "text": [
      "Hello\n",
      "Hello\n",
      "Hello\n"
     ]
    }
   ],
   "source": [
    "count = 0\n",
    "while count < 3:  # Loops as long as count is less than 3\n",
    "    print(\"Hello\")\n",
    "    count += 1  # Increases count by 1 each time\n",
    "# This also prints \"Hello\" three times, but it stops when count reaches 3."
   ]
  },
  {
   "cell_type": "raw",
   "id": "38b4fe4b-30ba-4175-991d-aa15b1ba5e1a",
   "metadata": {},
   "source": [
    "Then there are Break and Continue: “break” : Stops the loop early. “Continue”: Skips the current loop iteration and moves to the next one."
   ]
  },
  {
   "cell_type": "code",
   "execution_count": 23,
   "id": "075bc2c6-7b04-4331-b924-4878d7f8fa66",
   "metadata": {},
   "outputs": [
    {
     "name": "stdout",
     "output_type": "stream",
     "text": [
      "Number: 1\n",
      "Number: 2\n",
      "Skipping number 3 using continue\n",
      "Number: 4\n",
      "Number: 5\n",
      "Breaking the loop at number 5\n"
     ]
    }
   ],
   "source": [
    "for i in range(1, 10):\n",
    "    # If the number is 5, skip the rest of the loop and go to the next iteration\n",
    "    if i == 3:\n",
    "        print(f\"Skipping number {i} using continue\")\n",
    "        continue\n",
    "    \n",
    "    # Print the current number\n",
    "    print(f\"Number: {i}\")\n",
    "    \n",
    "    # If the number is 8, exit the loop\n",
    "    if i == 5:\n",
    "        print(f\"Breaking the loop at number {i}\")\n",
    "        break"
   ]
  },
  {
   "cell_type": "code",
   "execution_count": null,
   "id": "2e9450a8-5ad3-402e-b61f-7f57550f03e1",
   "metadata": {},
   "outputs": [],
   "source": []
  }
 ],
 "metadata": {
  "kernelspec": {
   "display_name": "Python 3 (ipykernel)",
   "language": "python",
   "name": "python3"
  },
  "language_info": {
   "codemirror_mode": {
    "name": "ipython",
    "version": 3
   },
   "file_extension": ".py",
   "mimetype": "text/x-python",
   "name": "python",
   "nbconvert_exporter": "python",
   "pygments_lexer": "ipython3",
   "version": "3.10.8"
  }
 },
 "nbformat": 4,
 "nbformat_minor": 5
}
